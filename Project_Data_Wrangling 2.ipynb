{
  "cells": [
    {
      "cell_type": "markdown",
      "metadata": {
        "id": "bySChKWcpTaf"
      },
      "source": [
        "# Dataset"
      ]
    },
    {
      "cell_type": "code",
      "execution_count": 30,
      "metadata": {
        "colab": {
          "base_uri": "https://localhost:8080/"
        },
        "id": "-n7LWq53rL-y",
        "outputId": "fe3295c5-0fd0-4139-8248-0a12cd12f507"
      },
      "outputs": [
        {
          "name": "stdout",
          "output_type": "stream",
          "text": [
            "Drive already mounted at /content/drive; to attempt to forcibly remount, call drive.mount(\"/content/drive\", force_remount=True).\n"
          ]
        }
      ],
      "source": [
        "# Menghubungkan Ke Google Drive Untuk Memanggil Dataset\n",
        "from google.colab import drive\n",
        "drive.mount('/content/drive')"
      ]
    },
    {
      "cell_type": "code",
      "execution_count": 31,
      "metadata": {
        "colab": {
          "base_uri": "https://localhost:8080/"
        },
        "id": "NxHAWOMxre7I",
        "outputId": "c4a4d758-2284-4c23-c976-3974504feca1"
      },
      "outputs": [
        {
          "name": "stdout",
          "output_type": "stream",
          "text": [
            "/content/drive/MyDrive/Project Data Wrangling Visualization - Teach4Hope\n"
          ]
        }
      ],
      "source": [
        "# Arahkan Jalur Untuk Memanggil Dataset Dari Sumber Folder Utama\n",
        "%cd /content/drive/MyDrive/Project Data Wrangling Visualization - Teach4Hope"
      ]
    },
    {
      "cell_type": "code",
      "execution_count": 32,
      "metadata": {
        "colab": {
          "base_uri": "https://localhost:8080/"
        },
        "id": "DyV1WVFavf5Q",
        "outputId": "11a68c07-a05f-41f5-b9db-ffb4dd80a863"
      },
      "outputs": [
        {
          "name": "stdout",
          "output_type": "stream",
          "text": [
            "country-and-continent-codes-list.csv  filtered_datateams.csv\t   highest_earning_teams.csv\n",
            "filtered_dataplayer.csv\t\t      highest_earning_players.csv  Housing.csv\n"
          ]
        }
      ],
      "source": [
        "# Melihat Isi Folder Apakah Dataset Telah Ada\n",
        "!ls"
      ]
    },
    {
      "cell_type": "code",
      "execution_count": 33,
      "metadata": {
        "id": "ENYnSrb5r14S"
      },
      "outputs": [],
      "source": [
        "# Memanggil modul yang dibutuhkan\n",
        "import pandas as pd\n",
        "import numpy as np\n",
        "import matplotlib.pyplot as plt\n",
        "import seaborn as sns\n",
        "import warnings\n",
        "#ignore all warnings\n",
        "warnings.filterwarnings('ignore')"
      ]
    },
    {
      "cell_type": "markdown",
      "metadata": {
        "id": "usx9Rs8xK2ES"
      },
      "source": [
        "### 1) Fungsi Yang Dibuat Untuk Cleaning pada dataset `highest_earning_players.csv`"
      ]
    },
    {
      "cell_type": "code",
      "execution_count": 70,
      "metadata": {
        "id": "3RJlDI-jfmVj"
      },
      "outputs": [],
      "source": [
        "def clean_data_players(df):\n",
        "    # Mengecek duplikat\n",
        "    print(\"Identifikasi Data Yang Duplikat :\")\n",
        "    print(df.duplicated().sum())\n",
        "\n",
        "    # Mengecek missing value\n",
        "    print(\"\")\n",
        "    print(\"Identifikasi missing value :\")\n",
        "    print(df.isna().sum())\n",
        "    print(\"\")\n",
        "\n",
        "    # Menampilkan 10 data teratas\n",
        "    print(\"Melihat 10 data teratas:\\n\", df.head(10))\n",
        "    print(\"\")\n",
        "\n",
        "    # Mengecek informasi dataset\n",
        "    print(\"Melihat Informasi pada dataset :\")\n",
        "    print(df.info())\n",
        "\n",
        "    # Menampilkan statistik deskriptif\n",
        "    print(\"\")\n",
        "    print(\"Statistik deskriptif:\\n\", df.describe())\n",
        "\n",
        "    # Identifikasi Inkonsistensi kolom Game dan Genre\n",
        "    print(\"\")\n",
        "    print(\"Identifikasi Inkonesistensi kolom Game dan Genre :\")\n",
        "    print(df[\"Game\"].unique())\n",
        "    print(df[\"Genre\"].unique())\n",
        "    print(\"\")\n",
        "\n",
        "    # Mengecek persebaran data\n",
        "    print(\"Melihat persebaran data pada kolom TotalUSDPrize :\")\n",
        "    sns.boxplot(data=df, x='TotalUSDPrize')\n",
        "\n",
        "    # Menyimpan dataset\n",
        "    df.to_csv('filtered_dataplayer.csv', index=False)"
      ]
    },
    {
      "cell_type": "markdown",
      "metadata": {
        "id": "XK7emhURgnAp"
      },
      "source": [
        "### 2) Fungsi Yang Dibuat Untuk Cleaning pada dataset `highest_earning_teams.csv`"
      ]
    },
    {
      "cell_type": "code",
      "execution_count": 71,
      "metadata": {
        "id": "OXlVnbfugO7s"
      },
      "outputs": [],
      "source": [
        "def clean_data_teams(df):\n",
        "    # Mengecek duplikat\n",
        "    print(\"Identifikasi Data Yang Duplikat :\")\n",
        "    print(df.duplicated().sum())\n",
        "\n",
        "    # Mengecek missing value\n",
        "    print(\"\")\n",
        "    print(\"Identifikasi missing value :\")\n",
        "    print(df.isna().sum())\n",
        "    print(\"\")\n",
        "\n",
        "    # Menampilkan 10 data teratas\n",
        "    print(\"Melihat 10 data teratas:\\n\", df.head(10))\n",
        "    print(\"\")\n",
        "\n",
        "    # Mengecek informasi dataset\n",
        "    print(\"Melihat Informasi pada dataset :\")\n",
        "    print(df.info())\n",
        "\n",
        "    # Menampilkan statistik deskriptif\n",
        "    print(\"\")\n",
        "    print(\"Statistik deskriptif:\\n\", df.describe())\n",
        "\n",
        "    # Identifikasi Inkonsistensi kolom Game dan Genre\n",
        "    print(\"\")\n",
        "    print(\"Identifikasi Inkonesistensi kolom Game dan Genre :\")\n",
        "    print(df[\"Game\"].unique())\n",
        "    print(df[\"Genre\"].unique())\n",
        "    print(\"\")\n",
        "\n",
        "    # Handling Outlier\n",
        "    Q1 = df['TotalTournaments'].quantile(0.25)\n",
        "    Q3 = df['TotalTournaments'].quantile(0.75)\n",
        "    IQR = Q3 - Q1\n",
        "\n",
        "    # Tentukan batas bawah dan batas atas\n",
        "    lower_bound = Q1 - (1.5 * IQR)\n",
        "    upper_bound = Q3 + (1.5 * IQR)\n",
        "\n",
        "    # Hapus outlier\n",
        "    df_filtered = df[(df['TotalTournaments'] >= lower_bound) & (df['TotalTournaments'] <= upper_bound)]\n",
        "\n",
        "    # Menampilkan boxplot setelah menghapus outlier\n",
        "    sns.boxplot(data=df_filtered, x='TotalTournaments')\n",
        "\n",
        "    # Menyimpan dataset\n",
        "    df_filtered.to_csv('filtered_datateams.csv', index=False)"
      ]
    },
    {
      "cell_type": "code",
      "execution_count": 72,
      "metadata": {
        "colab": {
          "base_uri": "https://localhost:8080/",
          "height": 1000
        },
        "id": "JHtP1WAadVL1",
        "outputId": "a7a38e6a-1bed-4789-8df8-abdc825d3aed"
      },
      "outputs": [
        {
          "name": "stdout",
          "output_type": "stream",
          "text": [
            "Identifikasi Data Yang Duplikat :\n",
            "0\n",
            "\n",
            "Identifikasi missing value :\n",
            "PlayerId         0\n",
            "NameFirst        0\n",
            "NameLast         0\n",
            "CurrentHandle    0\n",
            "CountryCode      0\n",
            "TotalUSDPrize    0\n",
            "Game             0\n",
            "Genre            0\n",
            "dtype: int64\n",
            "\n",
            "Melihat 10 data teratas:\n",
            "    PlayerId NameFirst   NameLast CurrentHandle CountryCode  TotalUSDPrize  \\\n",
            "0      3883     Peter  Rasmussen       dupreeh          dk     1822989.41   \n",
            "1      3679   Andreas   Højsleth         Xyp9x          dk     1799288.57   \n",
            "2      3885   Nicolai     Reedtz        dev1ce          dk     1787489.88   \n",
            "3      3672     Lukas  Rossander        gla1ve          dk     1652350.75   \n",
            "4     17800      Emil       Reif        Magisk          dk     1416448.64   \n",
            "5     16800     Jakey        Yip      Stewie2k          us     1087340.00   \n",
            "6     12183  Epitácio    de Melo          TACO          br     1063858.27   \n",
            "7     12169  Fernando  Alvarenga           fer          br     1063038.92   \n",
            "8      2455   Gabriel     Toledo        FalleN          br     1059938.92   \n",
            "9     12182   Marcelo      David      coldzera          br     1021901.46   \n",
            "\n",
            "                               Game                 Genre  \n",
            "0  Counter-Strike: Global Offensive  First-Person Shooter  \n",
            "1  Counter-Strike: Global Offensive  First-Person Shooter  \n",
            "2  Counter-Strike: Global Offensive  First-Person Shooter  \n",
            "3  Counter-Strike: Global Offensive  First-Person Shooter  \n",
            "4  Counter-Strike: Global Offensive  First-Person Shooter  \n",
            "5  Counter-Strike: Global Offensive  First-Person Shooter  \n",
            "6  Counter-Strike: Global Offensive  First-Person Shooter  \n",
            "7  Counter-Strike: Global Offensive  First-Person Shooter  \n",
            "8  Counter-Strike: Global Offensive  First-Person Shooter  \n",
            "9  Counter-Strike: Global Offensive  First-Person Shooter  \n",
            "\n",
            "Melihat Informasi pada dataset :\n",
            "<class 'pandas.core.frame.DataFrame'>\n",
            "RangeIndex: 1000 entries, 0 to 999\n",
            "Data columns (total 8 columns):\n",
            " #   Column         Non-Null Count  Dtype  \n",
            "---  ------         --------------  -----  \n",
            " 0   PlayerId       1000 non-null   int64  \n",
            " 1   NameFirst      1000 non-null   object \n",
            " 2   NameLast       1000 non-null   object \n",
            " 3   CurrentHandle  1000 non-null   object \n",
            " 4   CountryCode    1000 non-null   object \n",
            " 5   TotalUSDPrize  1000 non-null   float64\n",
            " 6   Game           1000 non-null   object \n",
            " 7   Genre          1000 non-null   object \n",
            "dtypes: float64(1), int64(1), object(6)\n",
            "memory usage: 62.6+ KB\n",
            "None\n",
            "\n",
            "Statistik deskriptif:\n",
            "            PlayerId  TotalUSDPrize\n",
            "count   1000.000000   1.000000e+03\n",
            "mean   27793.587000   3.977932e+05\n",
            "std    22170.225194   6.908492e+05\n",
            "min     1000.000000   2.417167e+04\n",
            "25%     5374.500000   8.378962e+04\n",
            "50%    23502.000000   1.683284e+05\n",
            "75%    48127.250000   3.937352e+05\n",
            "max    83085.000000   6.952597e+06\n",
            "\n",
            "Identifikasi Inkonesistensi kolom Game dan Genre :\n",
            "['Counter-Strike: Global Offensive' 'Dota 2' 'League of Legends'\n",
            " 'Fortnite' 'Overwatch' 'Starcraft II' 'Heroes of the Storm' 'PUBG'\n",
            " 'Arena of Valor' 'Hearthstone']\n",
            "['First-Person Shooter' 'Multiplayer Online Battle Arena' 'Battle Royale'\n",
            " 'Strategy' 'Collectible Card Game']\n",
            "\n",
            "Melihat persebaran data pada kolom TotalUSDPrize :\n"
          ]
        },
        {
          "data": {
            "image/png": "[encoded data removed]",
            "text/plain": [
              "<Figure size 640x480 with 1 Axes>"
            ]
          },
          "metadata": {},
          "output_type": "display_data"
        }
      ],
      "source": [
        "# Memanggil data\n",
        "dfplayer = pd.read_csv('highest_earning_players.csv')\n",
        "dfteams = pd.read_csv('highest_earning_teams.csv')\n",
        "\n",
        "# Cleaning data untuk players\n",
        "clean_data_players(dfplayer)"
      ]
    },
    {
      "cell_type": "code",
      "execution_count": 73,
      "metadata": {
        "colab": {
          "base_uri": "https://localhost:8080/",
          "height": 1000
        },
        "id": "JRS0wfrrg-DR",
        "outputId": "6208a9bd-444e-4668-e116-b1f53650fae5"
      },
      "outputs": [
        {
          "name": "stdout",
          "output_type": "stream",
          "text": [
            "Identifikasi Data Yang Duplikat :\n",
            "0\n",
            "\n",
            "Identifikasi missing value :\n",
            "TeamId              0\n",
            "TeamName            0\n",
            "TotalUSDPrize       0\n",
            "TotalTournaments    0\n",
            "Game                0\n",
            "Genre               0\n",
            "dtype: int64\n",
            "\n",
            "Melihat 10 data teratas:\n",
            "    TeamId                TeamName  TotalUSDPrize  TotalTournaments       Game  \\\n",
            "0     760     San Francisco Shock     3105000.00                 7  Overwatch   \n",
            "1     776         London Spitfire     1591136.50                13  Overwatch   \n",
            "2     768      New York Excelsior     1572618.50                18  Overwatch   \n",
            "3     773     Philadelphia Fusion     1186278.50                15  Overwatch   \n",
            "4     766           Seoul Dynasty     1130000.00                 6  Overwatch   \n",
            "5     856        Vancouver Titans      950000.00                 4  Overwatch   \n",
            "6     769        Shanghai Dragons      755000.00                 5  Overwatch   \n",
            "7     774  Los Angeles Gladiators      709605.19                13  Overwatch   \n",
            "8     861           Atlanta Reign      596098.00                 9  Overwatch   \n",
            "9     770     Los Angeles Valiant      535000.00                 6  Overwatch   \n",
            "\n",
            "                  Genre  \n",
            "0  First-Person Shooter  \n",
            "1  First-Person Shooter  \n",
            "2  First-Person Shooter  \n",
            "3  First-Person Shooter  \n",
            "4  First-Person Shooter  \n",
            "5  First-Person Shooter  \n",
            "6  First-Person Shooter  \n",
            "7  First-Person Shooter  \n",
            "8  First-Person Shooter  \n",
            "9  First-Person Shooter  \n",
            "\n",
            "Melihat Informasi pada dataset :\n",
            "<class 'pandas.core.frame.DataFrame'>\n",
            "RangeIndex: 928 entries, 0 to 927\n",
            "Data columns (total 6 columns):\n",
            " #   Column            Non-Null Count  Dtype  \n",
            "---  ------            --------------  -----  \n",
            " 0   TeamId            928 non-null    int64  \n",
            " 1   TeamName          928 non-null    object \n",
            " 2   TotalUSDPrize     928 non-null    float64\n",
            " 3   TotalTournaments  928 non-null    int64  \n",
            " 4   Game              928 non-null    object \n",
            " 5   Genre             928 non-null    object \n",
            "dtypes: float64(1), int64(2), object(3)\n",
            "memory usage: 43.6+ KB\n",
            "None\n",
            "\n",
            "Statistik deskriptif:\n",
            "              TeamId  TotalUSDPrize  TotalTournaments\n",
            "count    928.000000   9.280000e+02        928.000000\n",
            "mean    3836.927802   5.399183e+05         31.696121\n",
            "std     8438.383941   1.902399e+06         61.075848\n",
            "min      101.000000   1.750000e+02          1.000000\n",
            "25%      227.000000   3.915000e+04          4.000000\n",
            "50%      529.000000   1.165306e+05         11.000000\n",
            "75%      789.000000   3.231491e+05         33.000000\n",
            "max    24997.000000   3.381064e+07        808.000000\n",
            "\n",
            "Identifikasi Inkonesistensi kolom Game dan Genre :\n",
            "['Overwatch' 'Starcraft II' 'League of Legends' 'Fortnite'\n",
            " 'Counter-Strike: Global Offensive' 'Dota 2' 'PUBG' 'Heroes of the Storm'\n",
            " 'Hearthstone' 'Arena of Valor']\n",
            "['First-Person Shooter' 'Strategy' 'Multiplayer Online Battle Arena'\n",
            " 'Battle Royale' 'Collectible Card Game']\n",
            "\n"
          ]
        },
        {
          "data": {
            "image/png": "[encoded data removed]",
            "text/plain": [
              "<Figure size 640x480 with 1 Axes>"
            ]
          },
          "metadata": {},
          "output_type": "display_data"
        }
      ],
      "source": [
        "# Cleaning data untuk teams dan handling outlier\n",
        "clean_data_teams(dfteams)"
      ]
    }
  ],
  "metadata": {
    "colab": {
      "provenance": []
    },
    "interpreter": {
      "hash": "aee8b7b246df8f9039afb4144a1f6fd8d2ca17a180786b69acc140d282b71a49"
    },
    "kernelspec": {
      "display_name": "Python 3.10.4 64-bit",
      "language": "python",
      "name": "python3"
    },
    "language_info": {
      "name": "python",
      "version": "3.10.4"
    }
  },
  "nbformat": 4,
  "nbformat_minor": 0
}
